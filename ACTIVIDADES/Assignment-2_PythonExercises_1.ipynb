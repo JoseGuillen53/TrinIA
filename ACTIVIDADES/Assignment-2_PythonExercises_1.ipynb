{
  "nbformat": 4,
  "nbformat_minor": 0,
  "metadata": {
    "colab": {
      "provenance": []
    },
    "kernelspec": {
      "name": "python3",
      "display_name": "Python 3"
    },
    "language_info": {
      "name": "python"
    }
  },
  "cells": [
    {
      "cell_type": "markdown",
      "source": [
        "Herramienta de texto"
      ],
      "metadata": {
        "id": "7eGHjTmtarsI"
      }
    },
    {
      "cell_type": "code",
      "source": [
        "\n",
        "def cpalabras(entrada):\n",
        "    cpalabras = re.findall(r'\\b\\w+\\b', entrada.lower())\n",
        "    return len(cpalabras), cpalabras\n",
        "\n",
        "def coraciones(entrada):\n",
        "    coraciones = re.split(r'[.!?]+', entrada)\n",
        "    coraciones = [s for s in coraciones if s.strip()]\n",
        "    return len(coraciones)\n",
        "\n",
        "def cparrafo(entrada):\n",
        "    cparrafo = entrada.split('\\n\\n')\n",
        "    cparrafo = [p for p in cparrafo if p.strip()]\n",
        "    return len(cparrafo)\n",
        "\n",
        "def analiza(entrada):\n",
        "    npalabras, palabras = cpalabras(entrada)\n",
        "    noraciones = coraciones(entrada)\n",
        "    nparrafo = cparrafo(entrada)\n",
        "\n",
        "    print(f\"Número de palabras: {npalabras}\")\n",
        "    print(f\"Número de oraciones: {noraciones}\")\n",
        "    print(f\"Número de párrafos: {nparrafo}\")\n",
        "\n",
        "if __name__ == \"__main__\":\n",
        "    entrada = input(\"Ingrese el texto a analizar: \")\n",
        "    analiza(entrada)\n",
        "\n"
      ],
      "metadata": {
        "colab": {
          "base_uri": "https://localhost:8080/"
        },
        "id": "9sY6fgEEazSZ",
        "outputId": "9ad4b487-8070-45cb-bc24-6158e6abeba3"
      },
      "execution_count": 25,
      "outputs": [
        {
          "output_type": "stream",
          "name": "stdout",
          "text": [
            "Ingrese el texto a analizar: kcxnncxnc\n",
            "Número de palabras: 1\n",
            "Número de oraciones: 1\n",
            "Número de párrafos: 1\n"
          ]
        }
      ]
    },
    {
      "cell_type": "markdown",
      "source": [
        "Juego de ahorcado"
      ],
      "metadata": {
        "id": "yckTFJRwhSYj"
      }
    },
    {
      "cell_type": "code",
      "source": [
        "import random\n",
        "\n",
        "def quepalabra():\n",
        "    palabras = [\"manzana\", \"platano\", \"uva\", \"naranja\", \"sandia\"]\n",
        "    return random.choice(palabras)\n",
        "\n",
        "def play(palabras):\n",
        "    cpalabra = \".\" * len(palabras)\n",
        "    adivina = False\n",
        "    ladivina = []\n",
        "    padivina = []\n",
        "    intentos = 6\n",
        "\n",
        "    print(\"Juguemos al ahorcado\")\n",
        "    print(f\"Palabra: {cpalabra}\")\n",
        "    print(f\"Intentos restantes: {intentos}\")\n",
        "    print(\"\\n\")\n",
        "\n",
        "    while not adivina and intentos > 0:\n",
        "        prueba = input(\"Adivina una letra o palabra: \").lower()\n",
        "        if len(prueba) == 1 and prueba.isalpha():\n",
        "            if prueba in ladivina:\n",
        "                print(f\"Ya adivinaste la letra {prueba}\")\n",
        "            elif prueba not in palabras:\n",
        "                print(f\"{prueba} no está en la palabra.\")\n",
        "                intentos -= 1\n",
        "                ladivina.append(prueba)\n",
        "            else:\n",
        "                print(f\"Bien hecho, {prueba}\")\n",
        "                ladivina.append(prueba)\n",
        "                lista = list(cpalabra)\n",
        "                indices = [i for i, letra in enumerate(palabras) if letra == prueba]\n",
        "                for index in indices:\n",
        "                    lista[index] = prueba\n",
        "                cpalabra = \"\".join(lista)\n",
        "                if \".\" not in cpalabra:\n",
        "                    adivina = True\n",
        "        elif len(prueba) == len(palabras) and prueba.isalpha():\n",
        "            if prueba in padivina:\n",
        "                print(f\"Ya adivinaste la palabra {prueba}\")\n",
        "            elif prueba != palabras:\n",
        "                print(f\"{prueba} no es la palabra.\")\n",
        "                intentos -= 1\n",
        "                padivina.append(prueba)\n",
        "            else:\n",
        "                adivina = True\n",
        "                cpalabra = palabras\n",
        "        else:\n",
        "            print(\"Entrada no válida.\")\n",
        "\n",
        "        print(f\"Palabra: {cpalabra}\")\n",
        "        print(f\"Intentos restantes: {intentos}\")\n",
        "        print(\"\\n\")\n",
        "\n",
        "    if adivina:\n",
        "        print(f\"Felicidades, adivinaste la palabra {palabras}\")\n",
        "    else:\n",
        "        print(f\"Te quedaste sin intentos. La palabra era {palabras}\")\n",
        "\n",
        "if __name__ == \"__main__\":\n",
        "    palabras = quepalabra()\n",
        "    play(palabras)\n",
        "\n"
      ],
      "metadata": {
        "colab": {
          "base_uri": "https://localhost:8080/"
        },
        "id": "XRMO2F4QhcNQ",
        "outputId": "499810c4-9f29-4c02-feac-de87b09d9626"
      },
      "execution_count": 34,
      "outputs": [
        {
          "output_type": "stream",
          "name": "stdout",
          "text": [
            "Juguemos al ahorcado\n",
            "Palabra: .......\n",
            "Intentos restantes: 6\n",
            "\n",
            "\n",
            "Adivina una letra o palabra: k\n",
            "k no está en la palabra.\n",
            "Palabra: .......\n",
            "Intentos restantes: 5\n",
            "\n",
            "\n",
            "Adivina una letra o palabra: ñ\n",
            "ñ no está en la palabra.\n",
            "Palabra: .......\n",
            "Intentos restantes: 4\n",
            "\n",
            "\n",
            "Adivina una letra o palabra: o\n",
            "o no está en la palabra.\n",
            "Palabra: .......\n",
            "Intentos restantes: 3\n",
            "\n",
            "\n",
            "Adivina una letra o palabra: t\n",
            "t no está en la palabra.\n",
            "Palabra: .......\n",
            "Intentos restantes: 2\n",
            "\n",
            "\n",
            "Adivina una letra o palabra: b\n",
            "b no está en la palabra.\n",
            "Palabra: .......\n",
            "Intentos restantes: 1\n",
            "\n",
            "\n",
            "Adivina una letra o palabra: v\n",
            "v no está en la palabra.\n",
            "Palabra: .......\n",
            "Intentos restantes: 0\n",
            "\n",
            "\n",
            "Te quedaste sin intentos. La palabra era naranja\n"
          ]
        }
      ]
    },
    {
      "cell_type": "markdown",
      "source": [
        "Adivinanza"
      ],
      "metadata": {
        "id": "EAQWCYB8q9Up"
      }
    },
    {
      "cell_type": "code",
      "source": [
        "import random\n",
        "\n",
        "def adivinanzas():\n",
        "    numero = random.randint(1, 100)\n",
        "    adivina = False\n",
        "\n",
        "    print(\"Juego de adivinanzas de números\")\n",
        "    print(\"He elegido un número entre 1 y 100. Trata de adivinar.\")\n",
        "\n",
        "    while not adivina:\n",
        "        intento = input(\"Introduce tu adivinanza (solo números): \")\n",
        "\n",
        "        if intento.isdigit():\n",
        "            intento = int(intento)\n",
        "\n",
        "            if intento < numero:\n",
        "                print(\"Demasiado bajo. Intenta de nuevo.\")\n",
        "            elif intento > numero:\n",
        "                print(\"Demasiado alto. Intenta de nuevo.\")\n",
        "            else:\n",
        "                print(f\"Adivinaste el número {numero}.\")\n",
        "                adivina = True\n",
        "        else:\n",
        "            print(\"Introduce un número válido.\")\n",
        "\n",
        "if __name__ == \"__main__\":\n",
        "    adivinanzas()\n"
      ],
      "metadata": {
        "colab": {
          "base_uri": "https://localhost:8080/"
        },
        "id": "11Rr59LbrOBl",
        "outputId": "dd4776cf-560d-483c-fc8d-78e657799c98"
      },
      "execution_count": 36,
      "outputs": [
        {
          "output_type": "stream",
          "name": "stdout",
          "text": [
            "Juego de adivinanzas de números\n",
            "He elegido un número entre 1 y 100. Trata de adivinar.\n",
            "Introduce tu adivinanza (solo números): 87\n",
            "Demasiado alto. Intenta de nuevo.\n",
            "Introduce tu adivinanza (solo números): 50\n",
            "Demasiado bajo. Intenta de nuevo.\n",
            "Introduce tu adivinanza (solo números): 60\n",
            "Demasiado bajo. Intenta de nuevo.\n",
            "Introduce tu adivinanza (solo números): 70\n",
            "Demasiado alto. Intenta de nuevo.\n",
            "Introduce tu adivinanza (solo números): 69\n",
            "Demasiado alto. Intenta de nuevo.\n",
            "Introduce tu adivinanza (solo números): 68\n",
            "Demasiado alto. Intenta de nuevo.\n",
            "Introduce tu adivinanza (solo números): 65\n",
            "Demasiado alto. Intenta de nuevo.\n",
            "Introduce tu adivinanza (solo números): 63\n",
            "Demasiado alto. Intenta de nuevo.\n",
            "Introduce tu adivinanza (solo números): 61\n",
            "Demasiado bajo. Intenta de nuevo.\n",
            "Introduce tu adivinanza (solo números): 62\n",
            "Adivinaste el número 62.\n"
          ]
        }
      ]
    }
  ]
}